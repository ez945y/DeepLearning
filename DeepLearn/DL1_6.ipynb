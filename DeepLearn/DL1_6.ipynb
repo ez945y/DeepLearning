{
 "cells": [
  {
   "cell_type": "code",
   "execution_count": 1,
   "id": "3819e9c6",
   "metadata": {},
   "outputs": [
    {
     "data": {
      "text/plain": [
       "-0.9757431300314515"
      ]
     },
     "execution_count": 1,
     "metadata": {},
     "output_type": "execute_result"
    }
   ],
   "source": [
    "import math\n",
    "math.tanh(-2.2)"
   ]
  },
  {
   "cell_type": "code",
   "execution_count": 4,
   "id": "ed9acf74",
   "metadata": {},
   "outputs": [],
   "source": [
    "import torch.nn as nn\n",
    "import torch\n",
    "linear_model = nn.Linear(1,1)"
   ]
  },
  {
   "cell_type": "code",
   "execution_count": 6,
   "id": "57845b2c",
   "metadata": {},
   "outputs": [
    {
     "data": {
      "text/plain": [
       "tensor([[-1.7108],\n",
       "        [-1.7108],\n",
       "        [-1.7108],\n",
       "        [-1.7108],\n",
       "        [-1.7108],\n",
       "        [-1.7108],\n",
       "        [-1.7108],\n",
       "        [-1.7108],\n",
       "        [-1.7108],\n",
       "        [-1.7108]], grad_fn=<AddmmBackward0>)"
      ]
     },
     "execution_count": 6,
     "metadata": {},
     "output_type": "execute_result"
    }
   ],
   "source": [
    "x = torch.ones(10, 1)\n",
    "linear_model(x)"
   ]
  },
  {
   "cell_type": "code",
   "execution_count": 7,
   "id": "d2705c4f",
   "metadata": {},
   "outputs": [
    {
     "data": {
      "text/plain": [
       "torch.Size([10, 1])"
      ]
     },
     "execution_count": 7,
     "metadata": {},
     "output_type": "execute_result"
    }
   ],
   "source": [
    "t_c = [0.5, 14.0, 15.0, 28.0, 11.0, 8.0, 3.0, -4.0, 6.0, 13.0, 21.0]\n",
    "t_u = [35.7, 55.9, 81.9, 56.3, 48.0, 33.9, 21.8, 48.4, 60.4, 68.4]\n",
    "t_c = torch.tensor(t_c).unsqueeze(1)\n",
    "t_u = torch.tensor(t_u).unsqueeze(1)\n",
    "t_u.shape\n"
   ]
  },
  {
   "cell_type": "code",
   "execution_count": 9,
   "id": "3ce8784e",
   "metadata": {},
   "outputs": [],
   "source": [
    "optimizer = torch.optim.SGD(linear_model.parameters(), lr = 1e-2)"
   ]
  },
  {
   "cell_type": "code",
   "execution_count": 19,
   "id": "5d7458e1",
   "metadata": {},
   "outputs": [
    {
     "data": {
      "text/plain": [
       "[Parameter containing:\n",
       " tensor([[0.6118]], requires_grad=True),\n",
       " Parameter containing:\n",
       " tensor([0.9994], requires_grad=True)]"
      ]
     },
     "execution_count": 19,
     "metadata": {},
     "output_type": "execute_result"
    }
   ],
   "source": [
    "list(linear_model.parameters())"
   ]
  },
  {
   "cell_type": "code",
   "execution_count": 12,
   "id": "bf3c5e59",
   "metadata": {},
   "outputs": [],
   "source": [
    "def loss_fn(t_p, t_c):\n",
    "    squared_diffs = (t_p - t_c)**2\n",
    "    return squared_diffs.mean()\n",
    "def dloss_fn(t_p, t_c):\n",
    "    dsq = 2* (t_p - t_c)\n",
    "    return dsq / t_p.size(0)\n",
    "def model_dw(t_u, w, b):\n",
    "    return t_u\n",
    "def model_db(t_u, w, b):\n",
    "    return 1.0\n",
    "def grad_fn(t_u, t_c, t_p, w, b):\n",
    "    dloss_dp =  dloss_fn(t_p, t_c)\n",
    "    dloss_dw = model_dw(t_u,w,b) * dloss_dp\n",
    "    dloss_db = model_db(t_u,w,b) * dloss_dp\n",
    "    return torch.stack([dloss_dw.sum(), dloss_db.sum()])"
   ]
  },
  {
   "cell_type": "code",
   "execution_count": 80,
   "id": "959ec725",
   "metadata": {},
   "outputs": [
    {
     "data": {
      "text/plain": [
       "(tensor([0, 6, 5, 1, 3, 9, 2, 4]),\n",
       " tensor([[35.7000],\n",
       "         [21.8000],\n",
       "         [33.9000],\n",
       "         [55.9000],\n",
       "         [56.3000],\n",
       "         [68.4000],\n",
       "         [81.9000],\n",
       "         [48.0000]]))"
      ]
     },
     "execution_count": 80,
     "metadata": {},
     "output_type": "execute_result"
    }
   ],
   "source": [
    "t_c = [0.5, 14.0, 15.0, 28.0, 11.0, 8.0, 3.0, -4.0, 6.0, 13.0, 21.0]\n",
    "t_u = [35.7, 55.9, 81.9, 56.3, 48.0, 33.9, 21.8, 48.4, 60.4, 68.4]\n",
    "\n",
    "t_c = torch.tensor(t_c).unsqueeze(1)\n",
    "t_u = torch.tensor(t_u).unsqueeze(1)\n",
    "\n",
    "n_sample = t_u.shape[0]\n",
    "n_val = int(0.2 * n_sample)\n",
    "shuffled_index = torch.randperm(n_sample)\n",
    "train_index = shuffled_index[:-n_val]\n",
    "val_index = shuffled_index[-n_val:]\n",
    "train_index, val_index\n",
    "\n",
    "train_tu = t_u[train_index]\n",
    "train_tc = t_c[train_index]\n",
    "\n",
    "val_tu = t_u[val_index]\n",
    "val_tc = t_c[val_index]\n",
    "\n",
    "train_tun = 0.1 * train_tu\n",
    "val_tun = 0.1 * val_tu\n",
    "\n",
    "linear_model = nn.Linear(1,1)\n",
    "\n",
    "train_index, train_tu"
   ]
  },
  {
   "cell_type": "code",
   "execution_count": 15,
   "id": "07a92414",
   "metadata": {},
   "outputs": [],
   "source": [
    "def training(n_epochs, optimizer, model, train_tu, train_tc, val_tu, val_tc):\n",
    "    for epoch in range(1,n_epochs+1):\n",
    "        train_tp = model(train_tu)\n",
    "        train_loss = loss_fn(train_tp, train_tc)\n",
    "        with torch.no_grad():\n",
    "            val_tp = model(val_tu)\n",
    "            val_loss = loss_fn(val_tp, val_tc)\n",
    "            assert val_loss.requires_grad == False\n",
    "            \n",
    "        optimizer.zero_grad()\n",
    "        train_loss.backward()\n",
    "        optimizer.step()\n",
    "        \n",
    "        if epoch == 1 or epoch % 1000 == 0:\n",
    "            print(f'Epchs {epoch}, Training Loss {train_loss.item():.4f}'f\" Validation loss {val_loss.item():.4f}\")\n",
    "    return params"
   ]
  },
  {
   "cell_type": "code",
   "execution_count": 99,
   "id": "40a36079",
   "metadata": {},
   "outputs": [],
   "source": [
    "def model(t_u, w , b):\n",
    "    return t_u*w+b\n",
    "def training(n_epochs, optimizer, model, loss_fn, train_tu, train_tc, val_tu, val_tc):\n",
    "    for epoch in range(1,n_epochs+1):\n",
    "        train_tp = model(train_tu)\n",
    "        train_loss = loss_fn(train_tp, train_tc)\n",
    "        val_tp = model(val_tu)\n",
    "        val_loss = loss_fn(val_tp, val_tc)\n",
    "            \n",
    "        optimizer.zero_grad()\n",
    "        loss_train.backward() # <2>\n",
    "        optimizer.step()\n",
    "        \n",
    "        if epoch == 1 or epoch % 1000 == 0:\n",
    "            print(f'Epchs {epoch}, Training Loss {train_loss.item():.4f}'f\" Validation loss {val_loss.item():.4f}\")\n"
   ]
  },
  {
   "cell_type": "code",
   "execution_count": 82,
   "id": "d54406bf",
   "metadata": {},
   "outputs": [
    {
     "name": "stdout",
     "output_type": "stream",
     "text": [
      "Epchs 1, Training Loss 213.8275 Validation loss 28.0300\n",
      "Epchs 1000, Training Loss 38.8009 Validation loss 147.9176\n",
      "Epchs 2000, Training Loss 38.7986 Validation loss 147.7060\n",
      "Epchs 3000, Training Loss 38.7986 Validation loss 147.6845\n",
      "Parameter containing:\n",
      "tensor([[2.6442]], requires_grad=True)\n",
      "Parameter containing:\n",
      "tensor([-1.7209], requires_grad=True)\n"
     ]
    }
   ],
   "source": [
    "linear_model = nn.Linear(1, 1)\n",
    "optimizer = torch.optim.SGD(linear_model.parameters(), lr=1e-2)\n",
    "training(n_epochs = 3000, optimizer = optimizer, model = linear_model, loss_fn=nn.MSELoss(), train_tu = train_tun, train_tc = train_tc, val_tu = val_tun, val_tc=val_tc)\n",
    "print(linear_model.weight)\n",
    "print(linear_model.bias)"
   ]
  },
  {
   "cell_type": "code",
   "execution_count": 66,
   "id": "322b8d38",
   "metadata": {},
   "outputs": [
    {
     "data": {
      "text/plain": [
       "Sequential(\n",
       "  (0): Linear(in_features=1, out_features=13, bias=True)\n",
       "  (1): Tanh()\n",
       "  (2): Linear(in_features=13, out_features=1, bias=True)\n",
       ")"
      ]
     },
     "execution_count": 66,
     "metadata": {},
     "output_type": "execute_result"
    }
   ],
   "source": [
    "seq_model = nn.Sequential(nn.Linear(1,13),\n",
    "                         nn.Tanh(),\n",
    "                         nn.Linear(13,1))\n",
    "seq_model"
   ]
  },
  {
   "cell_type": "code",
   "execution_count": 48,
   "id": "875c613f",
   "metadata": {},
   "outputs": [
    {
     "data": {
      "text/plain": [
       "[torch.Size([13, 1]), torch.Size([13]), torch.Size([1, 13]), torch.Size([1])]"
      ]
     },
     "execution_count": 48,
     "metadata": {},
     "output_type": "execute_result"
    }
   ],
   "source": [
    "[param.shape for param in seq_model.parameters()]"
   ]
  },
  {
   "cell_type": "code",
   "execution_count": 49,
   "id": "fd3221c9",
   "metadata": {},
   "outputs": [
    {
     "data": {
      "text/plain": [
       "[torch.Size([13, 1]), torch.Size([13]), torch.Size([1, 13]), torch.Size([1])]"
      ]
     },
     "execution_count": 49,
     "metadata": {},
     "output_type": "execute_result"
    }
   ],
   "source": [
    "list(param.shape for param in seq_model.parameters())"
   ]
  },
  {
   "cell_type": "code",
   "execution_count": 74,
   "id": "3443b6a3",
   "metadata": {},
   "outputs": [
    {
     "name": "stdout",
     "output_type": "stream",
     "text": [
      "hidden_linear.weight torch.Size([13, 1])\n",
      "hidden_linear.bias torch.Size([13])\n",
      "out_put_linear.weight torch.Size([1, 13])\n",
      "out_put_linear.bias torch.Size([1])\n"
     ]
    }
   ],
   "source": [
    "for name, param in seq_model.named_parameters():\n",
    "    print(name, param.shape)"
   ]
  },
  {
   "cell_type": "code",
   "execution_count": 70,
   "id": "b0ca1abb",
   "metadata": {},
   "outputs": [
    {
     "data": {
      "text/plain": [
       "Sequential(\n",
       "  (hidden_linear): Linear(in_features=1, out_features=13, bias=True)\n",
       "  (hidden_activation): Tanh()\n",
       "  (out_put_linear): Linear(in_features=13, out_features=1, bias=True)\n",
       ")"
      ]
     },
     "execution_count": 70,
     "metadata": {},
     "output_type": "execute_result"
    }
   ],
   "source": [
    "from collections import OrderedDict\n",
    "seq_model = nn.Sequential(OrderedDict([\n",
    "    ('hidden_linear', nn.Linear(1,13)),\n",
    "    ('hidden_activation', nn.Tanh()),\n",
    "    ('out_put_linear', nn.Linear(13,1))\n",
    "]))\n",
    "seq_model"
   ]
  },
  {
   "cell_type": "code",
   "execution_count": 75,
   "id": "9fa21989",
   "metadata": {},
   "outputs": [
    {
     "name": "stdout",
     "output_type": "stream",
     "text": [
      "hidden_linear.weight torch.Size([13, 1])\n",
      "hidden_linear.bias torch.Size([13])\n",
      "out_put_linear.weight torch.Size([1, 13])\n",
      "out_put_linear.bias torch.Size([1])\n"
     ]
    }
   ],
   "source": [
    "for name, param in seq_model.named_parameters():\n",
    "    print(name, param.shape)"
   ]
  },
  {
   "cell_type": "code",
   "execution_count": 81,
   "id": "391a95e2",
   "metadata": {
    "scrolled": true
   },
   "outputs": [
    {
     "name": "stdout",
     "output_type": "stream",
     "text": [
      "Epchs 1, Training Loss 198.1665 Validation loss 26.3757\n",
      "Epchs 1000, Training Loss 198.1665 Validation loss 26.3757\n",
      "Epchs 2000, Training Loss 198.1665 Validation loss 26.3757\n",
      "Epchs 3000, Training Loss 198.1665 Validation loss 26.3757\n",
      "Epchs 4000, Training Loss 198.1665 Validation loss 26.3757\n",
      "Epchs 5000, Training Loss 198.1665 Validation loss 26.3757\n",
      "output tensor([[-0.0693],\n",
      "        [-0.1075]], grad_fn=<AddmmBackward0>)\n",
      "answer tensor([[-0.6787],\n",
      "        [-0.1065]], grad_fn=<AddmmBackward0>)\n",
      "hidden tensor([[ 3.3443e+03],\n",
      "        [ 1.5591e+03],\n",
      "        [-2.3810e+04],\n",
      "        [ 1.7747e+04],\n",
      "        [-1.3854e+03],\n",
      "        [-2.0028e+03],\n",
      "        [-4.0009e+04],\n",
      "        [-1.6183e+02],\n",
      "        [-5.2367e+03],\n",
      "        [-1.6814e+05],\n",
      "        [ 2.4391e+03],\n",
      "        [ 2.8595e+02],\n",
      "        [ 9.3637e+04]])\n"
     ]
    }
   ],
   "source": [
    "optimizer = torch.optim.SGD(linear_model.parameters(), lr=1e-4)\n",
    "training(n_epochs = 5000, optimizer = optimizer, model = seq_model, loss_fn=nn.MSELoss(), train_tu = train_tun, train_tc = train_tc, val_tu = val_tun, val_tc=val_tc)\n",
    "print('output', seq_model(val_tun))\n",
    "print('answer', seq_model(val_tc))\n",
    "print('hidden', seq_model.hidden_linear.weight.grad)"
   ]
  },
  {
   "cell_type": "code",
   "execution_count": null,
   "id": "b72dd533",
   "metadata": {},
   "outputs": [],
   "source": []
  },
  {
   "cell_type": "code",
   "execution_count": null,
   "id": "ecfc7de7",
   "metadata": {},
   "outputs": [],
   "source": []
  },
  {
   "cell_type": "code",
   "execution_count": 89,
   "id": "010e0ab7",
   "metadata": {},
   "outputs": [],
   "source": [
    "%matplotlib inline\n",
    "import numpy as np\n",
    "import torch\n",
    "import torch.nn as nn\n",
    "import torch.optim as optim\n",
    "\n",
    "torch.set_printoptions(edgeitems=2, linewidth=75)"
   ]
  },
  {
   "cell_type": "code",
   "execution_count": 86,
   "id": "95ed3d51",
   "metadata": {},
   "outputs": [
    {
     "data": {
      "text/plain": [
       "torch.Size([11, 1])"
      ]
     },
     "execution_count": 86,
     "metadata": {},
     "output_type": "execute_result"
    }
   ],
   "source": [
    "t_c = [0.5,  14.0, 15.0, 28.0, 11.0,  8.0,  3.0, -4.0,  6.0, 13.0, 21.0]\n",
    "t_u = [35.7, 55.9, 58.2, 81.9, 56.3, 48.9, 33.9, 21.8, 48.4, 60.4, 68.4]\n",
    "t_c = torch.tensor(t_c).unsqueeze(1) # <1>\n",
    "t_u = torch.tensor(t_u).unsqueeze(1) # <1>\n",
    "\n",
    "t_u.shape"
   ]
  },
  {
   "cell_type": "code",
   "execution_count": 87,
   "id": "b6a130cd",
   "metadata": {},
   "outputs": [
    {
     "data": {
      "text/plain": [
       "(tensor([ 1,  4,  5,  0,  2,  8,  9,  6, 10]), tensor([7, 3]))"
      ]
     },
     "execution_count": 87,
     "metadata": {},
     "output_type": "execute_result"
    }
   ],
   "source": [
    "n_samples = t_u.shape[0]\n",
    "n_val = int(0.2 * n_samples)\n",
    "\n",
    "shuffled_indices = torch.randperm(n_samples)\n",
    "\n",
    "train_indices = shuffled_indices[:-n_val]\n",
    "val_indices = shuffled_indices[-n_val:]\n",
    "\n",
    "train_indices, val_indices"
   ]
  },
  {
   "cell_type": "code",
   "execution_count": 88,
   "id": "f4e5e24e",
   "metadata": {},
   "outputs": [],
   "source": [
    "t_u_train = t_u[train_indices]\n",
    "t_c_train = t_c[train_indices]\n",
    "\n",
    "t_u_val = t_u[val_indices]\n",
    "t_c_val = t_c[val_indices]\n",
    "\n",
    "t_un_train = 0.1 * t_u_train\n",
    "t_un_val = 0.1 * t_u_val"
   ]
  },
  {
   "cell_type": "code",
   "execution_count": 105,
   "id": "3b7a4517",
   "metadata": {},
   "outputs": [],
   "source": [
    "def training_loop(n_epochs, optimizer, model, loss_fn, train_tu, val_tu,\n",
    "                  train_tc, val_tc):\n",
    "    for epoch in range(1, n_epochs + 1):\n",
    "        train_tp = model(train_tu) # <1>\n",
    "        train_loss = loss_fn(train_tp, train_tc)\n",
    "\n",
    "        val_tp = model(val_tu) # <1>\n",
    "        val_loss = loss_fn(val_tp, val_tc)\n",
    "        \n",
    "        optimizer.zero_grad()\n",
    "        train_loss.backward() # <2>\n",
    "        optimizer.step()\n",
    "\n",
    "        if epoch == 1 or epoch % 1000 == 0:\n",
    "            print(f\"Epoch {epoch}, Training loss {train_loss.item():.4f},\"\n",
    "                  f\" Validation loss {val_loss.item():.4f}\")\n"
   ]
  },
  {
   "cell_type": "code",
   "execution_count": 91,
   "id": "51d7efb7",
   "metadata": {},
   "outputs": [],
   "source": [
    "from collections import OrderedDict\n",
    "\n",
    "seq_model = nn.Sequential(OrderedDict([\n",
    "    ('hidden_linear', nn.Linear(1, 8)),\n",
    "    ('hidden_activation', nn.Tanh()),\n",
    "    ('output_linear', nn.Linear(8, 1))\n",
    "]))\n"
   ]
  },
  {
   "cell_type": "code",
   "execution_count": 107,
   "id": "4ea8c1ec",
   "metadata": {
    "scrolled": true
   },
   "outputs": [
    {
     "name": "stdout",
     "output_type": "stream",
     "text": [
      "Epoch 1, Training loss 50.4572, Validation loss 204.8736\n",
      "Epoch 1000, Training loss 2.0523, Validation loss 12.3750\n",
      "Epoch 2000, Training loss 2.0278, Validation loss 9.5445\n",
      "Epoch 3000, Training loss 2.0221, Validation loss 8.9086\n",
      "Epoch 4000, Training loss 2.0188, Validation loss 8.7333\n",
      "Epoch 5000, Training loss 2.0158, Validation loss 8.6987\n",
      "Epchs 1, Training Loss 2.0158 Validation loss 8.6987\n",
      "Epchs 1000, Training Loss 2.0128 Validation loss 8.7161\n",
      "Epchs 2000, Training Loss 2.0097 Validation loss 8.7541\n",
      "Epchs 3000, Training Loss 2.0066 Validation loss 8.8029\n",
      "Epchs 4000, Training Loss 2.0035 Validation loss 8.8545\n",
      "Epchs 5000, Training Loss 2.0003 Validation loss 8.9097\n",
      "output tensor([[ 0.0649],\n",
      "        [26.8616]], grad_fn=<AddmmBackward0>)\n",
      "answer tensor([[-4.],\n",
      "        [28.]])\n",
      "hidden tensor([[ 4.6438e-03],\n",
      "        [ 9.3985e-04],\n",
      "        [-4.6741e-03],\n",
      "        [ 2.6660e-03],\n",
      "        [-8.6439e-03],\n",
      "        [ 5.0853e-03],\n",
      "        [-2.2411e-05],\n",
      "        [ 3.7783e-03]])\n"
     ]
    }
   ],
   "source": [
    "optimizer = optim.SGD(seq_model.parameters(), lr=1e-3) # <1>\n",
    "\n",
    "training_loop(\n",
    "    n_epochs = 5000, \n",
    "    optimizer = optimizer,\n",
    "    model = seq_model,\n",
    "    loss_fn = nn.MSELoss(),\n",
    "    train_tu = t_un_train,\n",
    "    val_tu = t_un_val, \n",
    "    train_tc = t_c_train,\n",
    "    val_tc = t_c_val)\n",
    "\n",
    "training(n_epochs = 5000,\n",
    "         optimizer = optimizer,\n",
    "         model = seq_model,\n",
    "         loss_fn=nn.MSELoss(),\n",
    "         train_tu = t_un_train,\n",
    "         train_tc = t_c_train,\n",
    "         val_tu = t_un_val,\n",
    "         val_tc=t_c_val)\n",
    "print('output', seq_model(t_un_val))\n",
    "print('answer', t_c_val)\n",
    "print('hidden', seq_model.hidden_linear.weight.grad)"
   ]
  },
  {
   "cell_type": "code",
   "execution_count": 114,
   "id": "c28a8b38",
   "metadata": {},
   "outputs": [
    {
     "ename": "RuntimeError",
     "evalue": "Can't call numpy() on Tensor that requires grad. Use tensor.detach().numpy() instead.",
     "output_type": "error",
     "traceback": [
      "\u001b[1;31m---------------------------------------------------------------------------\u001b[0m",
      "\u001b[1;31mRuntimeError\u001b[0m                              Traceback (most recent call last)",
      "\u001b[1;32m~\\AppData\\Local\\Temp\\ipykernel_14444\\4274914954.py\u001b[0m in \u001b[0;36m<module>\u001b[1;34m\u001b[0m\n\u001b[0;32m      5\u001b[0m \u001b[0mplt\u001b[0m\u001b[1;33m.\u001b[0m\u001b[0mylabel\u001b[0m\u001b[1;33m(\u001b[0m\u001b[1;34m\"Celius\"\u001b[0m\u001b[1;33m)\u001b[0m\u001b[1;33m\u001b[0m\u001b[0m\n\u001b[0;32m      6\u001b[0m \u001b[0mplt\u001b[0m\u001b[1;33m.\u001b[0m\u001b[0mplot\u001b[0m\u001b[1;33m(\u001b[0m\u001b[0mt_u\u001b[0m\u001b[1;33m.\u001b[0m\u001b[0mnumpy\u001b[0m\u001b[1;33m(\u001b[0m\u001b[1;33m)\u001b[0m\u001b[1;33m,\u001b[0m \u001b[0mt_c\u001b[0m\u001b[1;33m.\u001b[0m\u001b[0mnumpy\u001b[0m\u001b[1;33m(\u001b[0m\u001b[1;33m)\u001b[0m\u001b[1;33m,\u001b[0m\u001b[1;34m'o'\u001b[0m\u001b[1;33m)\u001b[0m\u001b[1;33m\u001b[0m\u001b[0m\n\u001b[1;32m----> 7\u001b[1;33m \u001b[0mplt\u001b[0m\u001b[1;33m.\u001b[0m\u001b[0mplot\u001b[0m\u001b[1;33m(\u001b[0m\u001b[0mt_range\u001b[0m\u001b[1;33m.\u001b[0m\u001b[0mnumpy\u001b[0m\u001b[1;33m(\u001b[0m\u001b[1;33m)\u001b[0m\u001b[1;33m,\u001b[0m \u001b[0mseq_model\u001b[0m\u001b[1;33m(\u001b[0m\u001b[1;36m0.1\u001b[0m \u001b[1;33m*\u001b[0m \u001b[0mt_range\u001b[0m\u001b[1;33m)\u001b[0m\u001b[1;33m.\u001b[0m\u001b[0mnumpy\u001b[0m\u001b[1;33m(\u001b[0m\u001b[1;33m)\u001b[0m\u001b[1;33m,\u001b[0m \u001b[1;34m'c-'\u001b[0m\u001b[1;33m)\u001b[0m\u001b[1;33m\u001b[0m\u001b[0m\n\u001b[0m\u001b[0;32m      8\u001b[0m \u001b[0mplt\u001b[0m\u001b[1;33m.\u001b[0m\u001b[0mplot\u001b[0m\u001b[1;33m(\u001b[0m\u001b[0mt_u\u001b[0m\u001b[1;33m.\u001b[0m\u001b[0mnumpy\u001b[0m\u001b[1;33m(\u001b[0m\u001b[1;33m)\u001b[0m\u001b[1;33m,\u001b[0m \u001b[0mseq_model\u001b[0m\u001b[1;33m(\u001b[0m\u001b[1;36m0.1\u001b[0m \u001b[1;33m*\u001b[0m \u001b[0mt_u\u001b[0m\u001b[1;33m)\u001b[0m\u001b[1;33m.\u001b[0m\u001b[0mnumpy\u001b[0m\u001b[1;33m(\u001b[0m\u001b[1;33m)\u001b[0m\u001b[1;33m,\u001b[0m \u001b[1;34m'kx'\u001b[0m\u001b[1;33m)\u001b[0m \u001b[1;31m#XX啦\u001b[0m\u001b[1;33m\u001b[0m\u001b[0m\n",
      "\u001b[1;31mRuntimeError\u001b[0m: Can't call numpy() on Tensor that requires grad. Use tensor.detach().numpy() instead."
     ]
    },
    {
     "data": {
      "image/png": "[encoded data removed]",
      "text/plain": [
       "<Figure size 3600x2400 with 1 Axes>"
      ]
     },
     "metadata": {
      "needs_background": "light"
     },
     "output_type": "display_data"
    }
   ],
   "source": [
    "from matplotlib import pyplot as plt\n",
    "t_range = torch.arange(20.,90.).unsqueeze(1)\n",
    "fig = plt.figure(dpi=600)\n",
    "plt.xlabel(\"Fahrengeit\")\n",
    "plt.ylabel(\"Celius\")\n",
    "plt.plot(t_u.numpy(), t_c.numpy(),'o')\n",
    "plt.plot(t_range.numpy(), seq_model(0.1 * t_range).detach().numpy(), 'c-')\n",
    "plt.plot(t_u.numpy(), seq_model(0.1 * t_u).detach().numpy(), 'kx') #XX啦"
   ]
  }
 ],
 "metadata": {
  "kernelspec": {
   "display_name": "Python 3 (ipykernel)",
   "language": "python",
   "name": "python3"
  },
  "language_info": {
   "codemirror_mode": {
    "name": "ipython",
    "version": 3
   },
   "file_extension": ".py",
   "mimetype": "text/x-python",
   "name": "python",
   "nbconvert_exporter": "python",
   "pygments_lexer": "ipython3",
   "version": "3.7.0"
  }
 },
 "nbformat": 4,
 "nbformat_minor": 5
}
