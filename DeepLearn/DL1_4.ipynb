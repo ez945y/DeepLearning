{
 "cells": [
  {
   "cell_type": "code",
   "execution_count": 7,
   "id": "4d6fad85",
   "metadata": {},
   "outputs": [
    {
     "data": {
      "text/plain": [
       "(720, 1280, 3)"
      ]
     },
     "execution_count": 7,
     "metadata": {},
     "output_type": "execute_result"
    }
   ],
   "source": [
    "import numpy as np\n",
    "import torch\n",
    "import imageio\n",
    "img_arr = imageio.imread('../data/p1ch4/image-dog/bobby.jpg')\n",
    "img_arr.shape"
   ]
  },
  {
   "cell_type": "code",
   "execution_count": 9,
   "id": "79048ffc",
   "metadata": {},
   "outputs": [
    {
     "data": {
      "text/plain": [
       "torch.Size([3, 720, 1280])"
      ]
     },
     "execution_count": 9,
     "metadata": {},
     "output_type": "execute_result"
    }
   ],
   "source": [
    "img = torch.from_numpy(img_arr)\n",
    "out = img.permute(2, 0 , 1)\n",
    "out.shape"
   ]
  },
  {
   "cell_type": "code",
   "execution_count": 13,
   "id": "b9c19f52",
   "metadata": {},
   "outputs": [],
   "source": [
    "batch_size = 100\n",
    "batch = torch.zeros(batch_size, 3, 256, 256, dtype = torch.uint8)"
   ]
  },
  {
   "cell_type": "code",
   "execution_count": 15,
   "id": "b06e2a97",
   "metadata": {},
   "outputs": [
    {
     "data": {
      "text/plain": [
       "torch.Size([100, 3, 256, 256])"
      ]
     },
     "execution_count": 15,
     "metadata": {},
     "output_type": "execute_result"
    }
   ],
   "source": [
    "import os\n",
    "data_dir = '../data/p1ch4/image-cats'\n",
    "filenames = [name for name in os.listdir(data_dir) if os.path.splitext(name)[-1] == '.png']\n",
    "\n",
    "for i, filename in enumerate(filenames):\n",
    "    img_arr = imageio.imread(os.path.join(data_dir,filename))\n",
    "    img_t = torch.from_numpy(img_arr)\n",
    "    img_t = img_t.permute(2,0,1)\n",
    "    img_t = img_t[:3]\n",
    "    batch[i] = img_t\n",
    "batch.shape"
   ]
  },
  {
   "cell_type": "code",
   "execution_count": 28,
   "id": "c4171e7d",
   "metadata": {
    "scrolled": true
   },
   "outputs": [
    {
     "data": {
      "text/plain": [
       "tensor([[ 3.6971,  2.8476,  2.3379,  ...,  0.1858,  0.1858,  0.1292],\n",
       "        [ 3.6405,  2.9042,  2.3379,  ...,  0.1858,  0.1858,  0.1858],\n",
       "        [ 3.6405,  3.0175,  2.3379,  ...,  0.1858,  0.1858,  0.1858],\n",
       "        ...,\n",
       "        [ 1.6016,  0.9220,  0.5256,  ...,  0.8088,  0.8088,  0.8088],\n",
       "        [ 0.4690, -0.0407,  1.8282,  ...,  0.8088,  0.8088,  0.8654],\n",
       "        [ 0.9220,  1.9414,  1.0919,  ...,  0.8088,  0.8654,  0.9220]])"
      ]
     },
     "execution_count": 28,
     "metadata": {},
     "output_type": "execute_result"
    }
   ],
   "source": [
    "n = batch.shape[1]\n",
    "for c in range(n):\n",
    "    mean = torch.mean(batch[:,c])\n",
    "    std = torch.std(batch[:,c])\n",
    "    batch[:,c]= (batch[:,c ] - mean) / std\n",
    "batch[1,2]"
   ]
  },
  {
   "cell_type": "code",
   "execution_count": 33,
   "id": "629d94e9",
   "metadata": {},
   "outputs": [
    {
     "name": "stdout",
     "output_type": "stream",
     "text": [
      "Reading DICOM (examining files): 1/99 files (1.0%42/99 files (42.4%99/99 files (100.0%)\n",
      "  Found 1 correct series.\n",
      "Reading DICOM (loading data): 44/99  (44.493/99  (93.999/99  (100.0%)\n"
     ]
    },
    {
     "data": {
      "text/plain": [
       "(99, 512, 512)"
      ]
     },
     "execution_count": 33,
     "metadata": {},
     "output_type": "execute_result"
    }
   ],
   "source": [
    "import imageio\n",
    "dir_path = '../data/p1ch4/volumetric-dicom/2-LUNG 3.0  B70f-04083'\n",
    "vol_arr = imageio.volread(dir_path, 'DICOM')\n",
    "vol_arr.shape"
   ]
  },
  {
   "cell_type": "code",
   "execution_count": 37,
   "id": "7231b170",
   "metadata": {},
   "outputs": [
    {
     "data": {
      "text/plain": [
       "torch.Size([99, 1, 1, 512, 512])"
      ]
     },
     "execution_count": 37,
     "metadata": {},
     "output_type": "execute_result"
    }
   ],
   "source": [
    "vol = torch.from_numpy(vol_arr).float()\n",
    "vol = torch.unsqueeze(vol, 1)\n",
    "vol = torch.unsqueeze(vol, 2)\n",
    "vol.shape"
   ]
  },
  {
   "cell_type": "code",
   "execution_count": 42,
   "id": "c7ec7915",
   "metadata": {},
   "outputs": [
    {
     "data": {
      "text/plain": [
       "array([[ 7.  ,  0.27,  0.36, ...,  0.45,  8.8 ,  6.  ],\n",
       "       [ 6.3 ,  0.3 ,  0.34, ...,  0.49,  9.5 ,  6.  ],\n",
       "       [ 8.1 ,  0.28,  0.4 , ...,  0.44, 10.1 ,  6.  ],\n",
       "       ...,\n",
       "       [ 6.5 ,  0.24,  0.19, ...,  0.46,  9.4 ,  6.  ],\n",
       "       [ 5.5 ,  0.29,  0.3 , ...,  0.38, 12.8 ,  7.  ],\n",
       "       [ 6.  ,  0.21,  0.38, ...,  0.32, 11.8 ,  6.  ]], dtype=float32)"
      ]
     },
     "execution_count": 42,
     "metadata": {},
     "output_type": "execute_result"
    }
   ],
   "source": [
    "import csv\n",
    "wine_path = '../data/p1ch4/tabular-wine/winequality-white.csv'\n",
    "wine_np = np.loadtxt(wine_path, dtype = np.float32, delimiter=\";\", skiprows = 1)\n",
    "wine_np"
   ]
  },
  {
   "cell_type": "code",
   "execution_count": 100,
   "id": "c708d22b",
   "metadata": {
    "scrolled": true
   },
   "outputs": [
    {
     "data": {
      "text/plain": [
       "['fixed acidity',\n",
       " 'volatile acidity',\n",
       " 'citric acid',\n",
       " 'residual sugar',\n",
       " 'chlorides',\n",
       " 'free sulfur dioxide',\n",
       " 'total sulfur dioxide',\n",
       " 'density',\n",
       " 'pH',\n",
       " 'sulphates',\n",
       " 'alcohol',\n",
       " 'quality']"
      ]
     },
     "execution_count": 100,
     "metadata": {},
     "output_type": "execute_result"
    }
   ],
   "source": [
    "col_lis = next(csv.reader(open(wine_path) ,delimiter=\";\"))\n",
    "col_lis"
   ]
  },
  {
   "cell_type": "code",
   "execution_count": 57,
   "id": "bf876d47",
   "metadata": {},
   "outputs": [
    {
     "data": {
      "text/plain": [
       "torch.Size([4898, 12])"
      ]
     },
     "execution_count": 57,
     "metadata": {},
     "output_type": "execute_result"
    }
   ],
   "source": [
    "wineq = torch.from_numpy(wine_np)\n",
    "wineq.shape"
   ]
  },
  {
   "cell_type": "code",
   "execution_count": 61,
   "id": "c6730c29",
   "metadata": {},
   "outputs": [
    {
     "data": {
      "text/plain": [
       "(tensor([[ 7.0000,  0.2700,  0.3600,  ...,  3.0000,  0.4500,  8.8000],\n",
       "         [ 6.3000,  0.3000,  0.3400,  ...,  3.3000,  0.4900,  9.5000],\n",
       "         [ 8.1000,  0.2800,  0.4000,  ...,  3.2600,  0.4400, 10.1000],\n",
       "         ...,\n",
       "         [ 6.5000,  0.2400,  0.1900,  ...,  2.9900,  0.4600,  9.4000],\n",
       "         [ 5.5000,  0.2900,  0.3000,  ...,  3.3400,  0.3800, 12.8000],\n",
       "         [ 6.0000,  0.2100,  0.3800,  ...,  3.2600,  0.3200, 11.8000]]),\n",
       " torch.Size([4898, 11]))"
      ]
     },
     "execution_count": 61,
     "metadata": {},
     "output_type": "execute_result"
    }
   ],
   "source": [
    "data = wineq[:,:-1]\n",
    "data, data.shape"
   ]
  },
  {
   "cell_type": "code",
   "execution_count": 64,
   "id": "60147c04",
   "metadata": {},
   "outputs": [
    {
     "data": {
      "text/plain": [
       "(tensor([6., 6., 6.,  ..., 6., 7., 6.]), torch.Size([4898]))"
      ]
     },
     "execution_count": 64,
     "metadata": {},
     "output_type": "execute_result"
    }
   ],
   "source": [
    "target = wineq[:,-1]\n",
    "target, target.shape\n"
   ]
  },
  {
   "cell_type": "code",
   "execution_count": 65,
   "id": "14009ba8",
   "metadata": {},
   "outputs": [
    {
     "data": {
      "text/plain": [
       "tensor([6, 6, 6,  ..., 6, 7, 6])"
      ]
     },
     "execution_count": 65,
     "metadata": {},
     "output_type": "execute_result"
    }
   ],
   "source": [
    "target = wineq[:,-1].long()\n",
    "target"
   ]
  },
  {
   "cell_type": "code",
   "execution_count": 66,
   "id": "753f4d25",
   "metadata": {},
   "outputs": [
    {
     "data": {
      "text/plain": [
       "(tensor([[0., 0., 0.,  ..., 0., 0., 0.],\n",
       "         [0., 0., 0.,  ..., 0., 0., 0.],\n",
       "         [0., 0., 0.,  ..., 0., 0., 0.],\n",
       "         ...,\n",
       "         [0., 0., 0.,  ..., 0., 0., 0.],\n",
       "         [0., 0., 0.,  ..., 1., 0., 0.],\n",
       "         [0., 0., 0.,  ..., 0., 0., 0.]]),\n",
       " torch.Size([4898, 10]))"
      ]
     },
     "execution_count": 66,
     "metadata": {},
     "output_type": "execute_result"
    }
   ],
   "source": [
    "target_onehot = torch.zeros(target.shape[0],10)\n",
    "a = target_onehot.scatter_(1,target.unsqueeze(1),1.0)\n",
    "a, a.shape"
   ]
  },
  {
   "cell_type": "raw",
   "id": "8a804ace",
   "metadata": {},
   "source": [
    "target_unsqueezed = target.unsqueeze(1)\n"
   ]
  },
  {
   "cell_type": "code",
   "execution_count": 70,
   "id": "6e9efd96",
   "metadata": {},
   "outputs": [
    {
     "data": {
      "text/plain": [
       "tensor([6.8548e+00, 2.7824e-01, 3.3419e-01, 6.3914e+00, 4.5772e-02, 3.5308e+01,\n",
       "        1.3836e+02, 9.9403e-01, 3.1883e+00, 4.8985e-01, 1.0514e+01])"
      ]
     },
     "execution_count": 70,
     "metadata": {},
     "output_type": "execute_result"
    }
   ],
   "source": [
    "data_mean = torch.mean(data, dim=0)\n",
    "data_mean"
   ]
  },
  {
   "cell_type": "code",
   "execution_count": 74,
   "id": "657d6004",
   "metadata": {},
   "outputs": [
    {
     "data": {
      "text/plain": [
       "tensor([7.1211e-01, 1.0160e-02, 1.4646e-02, 2.5726e+01, 4.7733e-04, 2.8924e+02,\n",
       "        1.8061e+03, 8.9455e-06, 2.2801e-02, 1.3025e-02, 1.5144e+00])"
      ]
     },
     "execution_count": 74,
     "metadata": {},
     "output_type": "execute_result"
    }
   ],
   "source": [
    "data_var = torch.var(data, dim=0)\n",
    "data_var"
   ]
  },
  {
   "cell_type": "code",
   "execution_count": 89,
   "id": "4abf5ad4",
   "metadata": {},
   "outputs": [
    {
     "data": {
      "text/plain": [
       "tensor([[ 6.1561,  0.1692,  0.2390,  ...,  2.8490,  0.3359,  7.5694],\n",
       "        [ 5.4561,  0.1992,  0.2190,  ...,  3.1490,  0.3759,  8.2694],\n",
       "        [ 7.2561,  0.1792,  0.2790,  ...,  3.1090,  0.3259,  8.8694],\n",
       "        ...,\n",
       "        [ 5.6561,  0.1392,  0.0690,  ...,  2.8390,  0.3459,  8.1694],\n",
       "        [ 4.6561,  0.1892,  0.1790,  ...,  3.1890,  0.2659, 11.5694],\n",
       "        [ 5.1561,  0.1092,  0.2590,  ...,  3.1090,  0.2059, 10.5694]])"
      ]
     },
     "execution_count": 89,
     "metadata": {},
     "output_type": "execute_result"
    }
   ],
   "source": [
    "data_nor = data - data_mean\n",
    "data_nor"
   ]
  },
  {
   "cell_type": "code",
   "execution_count": 101,
   "id": "ba320a91",
   "metadata": {},
   "outputs": [
    {
     "name": "stdout",
     "output_type": "stream",
     "text": [
      " 0 fixed acidity          7.60   6.89   6.73\n",
      " 1 volatile acidity       0.33   0.28   0.27\n",
      " 2 citric acid            0.34   0.34   0.33\n",
      " 3 residual sugar         6.39   6.71   5.26\n",
      " 4 chlorides              0.05   0.05   0.04\n",
      " 5 free sulfur dioxide   53.33  35.42  34.55\n",
      " 6 total sulfur dioxide 170.60 141.83 125.25\n",
      " 7 density                0.99   0.99   0.99\n",
      " 8 pH                     3.19   3.18   3.22\n",
      " 9 sulphates              0.47   0.49   0.50\n",
      "10 alcohol               10.34  10.26  11.42\n"
     ]
    }
   ],
   "source": [
    "bad_data = data[target<=3]\n",
    "mid_data = data[(target>3) & (target<7)]\n",
    "high_data = data[target>=7]\n",
    "bad_mean = torch.mean(bad_data, dim=0)\n",
    "mid_mean = torch.mean(mid_data, dim=0)\n",
    "high_mean = torch.mean(high_data, dim=0)\n",
    "for i, args in enumerate(zip(col_lis, bad_mean, mid_mean, high_mean)):\n",
    "    print('{:2} {:20} {:6.2f} {:6.2f} {:6.2f}'.format(i,*args))"
   ]
  },
  {
   "cell_type": "code",
   "execution_count": 103,
   "id": "9347b998",
   "metadata": {},
   "outputs": [
    {
     "data": {
      "text/plain": [
       "(torch.Size([4898]), torch.bool, tensor(2727))"
      ]
     },
     "execution_count": 103,
     "metadata": {},
     "output_type": "execute_result"
    }
   ],
   "source": [
    "t = 141.83\n",
    "t_d = data[:,6]\n",
    "p_id = torch.lt(t_d, t)\n",
    "p_id.shape, p_id.dtype, p_id.sum()"
   ]
  },
  {
   "cell_type": "code",
   "execution_count": 106,
   "id": "10c31ac7",
   "metadata": {},
   "outputs": [
    {
     "data": {
      "text/plain": [
       "(torch.Size([4898]), torch.bool, tensor(3258))"
      ]
     },
     "execution_count": 106,
     "metadata": {},
     "output_type": "execute_result"
    }
   ],
   "source": [
    "actual = target> 5\n",
    "actual.shape, actual.dtype, actual.sum()"
   ]
  },
  {
   "cell_type": "code",
   "execution_count": 110,
   "id": "55c03848",
   "metadata": {},
   "outputs": [
    {
     "data": {
      "text/plain": [
       "(2018, 0.74000733406674, 0.6193984039287906)"
      ]
     },
     "execution_count": 110,
     "metadata": {},
     "output_type": "execute_result"
    }
   ],
   "source": [
    "match = torch.sum(actual & p_id).item()\n",
    "n_pr = torch.sum(p_id).item()\n",
    "n_ac = torch.sum(actual).item()\n",
    "match, match / n_pr, match / n_ac"
   ]
  },
  {
   "cell_type": "code",
   "execution_count": 130,
   "id": "156e2aed",
   "metadata": {},
   "outputs": [
    {
     "data": {
      "text/plain": [
       "torch.Size([17520, 17])"
      ]
     },
     "execution_count": 130,
     "metadata": {},
     "output_type": "execute_result"
    }
   ],
   "source": [
    "bike_np = np.loadtxt('../data/p1ch4/bike-sharing-dataset/hour-fixed.csv',dtype = np.float32,delimiter=',',skiprows=1,converters ={1: lambda x : float(x[8:10])})\n",
    "bikes = torch.from_numpy(bike_np)\n",
    "bikes.shape"
   ]
  },
  {
   "cell_type": "code",
   "execution_count": 124,
   "id": "8822ce93",
   "metadata": {},
   "outputs": [
    {
     "data": {
      "text/plain": [
       "torch.Size([730, 24, 17])"
      ]
     },
     "execution_count": 124,
     "metadata": {},
     "output_type": "execute_result"
    }
   ],
   "source": [
    "daily = bikes.view(-1,24,bikes.shape[1])\n",
    "daily.shape"
   ]
  },
  {
   "cell_type": "code",
   "execution_count": 129,
   "id": "a75fea38",
   "metadata": {},
   "outputs": [
    {
     "data": {
      "text/plain": [
       "torch.Size([730, 17, 24])"
      ]
     },
     "execution_count": 129,
     "metadata": {},
     "output_type": "execute_result"
    }
   ],
   "source": [
    "daily = daily.transpose(1,2)\n",
    "daily.shape"
   ]
  },
  {
   "cell_type": "code",
   "execution_count": 139,
   "id": "4591987c",
   "metadata": {},
   "outputs": [
    {
     "data": {
      "text/plain": [
       "tensor([1, 1, 1, 1, 1, 2, 1, 1, 1, 1, 1, 1, 1, 2, 2, 2, 2, 2, 3, 3, 2, 2, 2, 2])"
      ]
     },
     "execution_count": 139,
     "metadata": {},
     "output_type": "execute_result"
    }
   ],
   "source": [
    "first_day = bikes[:24].long()\n",
    "weather_onehot = torch.zeros(24,4)\n",
    "first_day[:,9]"
   ]
  },
  {
   "cell_type": "code",
   "execution_count": 141,
   "id": "e57bce2a",
   "metadata": {},
   "outputs": [
    {
     "data": {
      "text/plain": [
       "tensor([[1., 0., 0., 0.],\n",
       "        [1., 0., 0., 0.],\n",
       "        [1., 0., 0., 0.],\n",
       "        [1., 0., 0., 0.],\n",
       "        [1., 0., 0., 0.],\n",
       "        [0., 1., 0., 0.],\n",
       "        [1., 0., 0., 0.],\n",
       "        [1., 0., 0., 0.],\n",
       "        [1., 0., 0., 0.],\n",
       "        [1., 0., 0., 0.],\n",
       "        [1., 0., 0., 0.],\n",
       "        [1., 0., 0., 0.],\n",
       "        [1., 0., 0., 0.],\n",
       "        [0., 1., 0., 0.],\n",
       "        [0., 1., 0., 0.],\n",
       "        [0., 1., 0., 0.],\n",
       "        [0., 1., 0., 0.],\n",
       "        [0., 1., 0., 0.],\n",
       "        [0., 0., 1., 0.],\n",
       "        [0., 0., 1., 0.],\n",
       "        [0., 1., 0., 0.],\n",
       "        [0., 1., 0., 0.],\n",
       "        [0., 1., 0., 0.],\n",
       "        [0., 1., 0., 0.]])"
      ]
     },
     "execution_count": 141,
     "metadata": {},
     "output_type": "execute_result"
    }
   ],
   "source": [
    "weather_onehot.scatter_(1,first_day[:,9].unsqueeze(1).long()-1,1.0)"
   ]
  },
  {
   "cell_type": "code",
   "execution_count": 147,
   "id": "912f0c6d",
   "metadata": {},
   "outputs": [
    {
     "data": {
      "text/plain": [
       "tensor([[ 1.0000,  1.0000,  1.0000,  0.0000,  1.0000,  0.0000,  0.0000,  6.0000,\n",
       "          0.0000,  1.0000,  0.2400,  0.2879,  0.8100,  0.0000,  3.0000, 13.0000,\n",
       "         16.0000,  1.0000,  0.0000,  0.0000,  0.0000]])"
      ]
     },
     "execution_count": 147,
     "metadata": {},
     "output_type": "execute_result"
    }
   ],
   "source": [
    "torch.cat((bikes[:24],weather_onehot), 1)[:1]"
   ]
  },
  {
   "cell_type": "code",
   "execution_count": 151,
   "id": "f415ae8d",
   "metadata": {},
   "outputs": [
    {
     "data": {
      "text/plain": [
       "torch.Size([730, 4, 24])"
      ]
     },
     "execution_count": 151,
     "metadata": {},
     "output_type": "execute_result"
    }
   ],
   "source": [
    "daily_onehot = torch.zeros(daily.shape[0],4,daily.shape[2])\n",
    "daily_onehot.shape"
   ]
  },
  {
   "cell_type": "code",
   "execution_count": 154,
   "id": "a7fc80c7",
   "metadata": {},
   "outputs": [
    {
     "data": {
      "text/plain": [
       "tensor([[[1., 1., 1.,  ..., 0., 0., 0.],\n",
       "         [0., 0., 0.,  ..., 1., 1., 1.],\n",
       "         [0., 0., 0.,  ..., 0., 0., 0.],\n",
       "         [0., 0., 0.,  ..., 0., 0., 0.]],\n",
       "\n",
       "        [[0., 0., 0.,  ..., 1., 1., 1.],\n",
       "         [1., 1., 1.,  ..., 0., 0., 0.],\n",
       "         [0., 0., 0.,  ..., 0., 0., 0.],\n",
       "         [0., 0., 0.,  ..., 0., 0., 0.]],\n",
       "\n",
       "        [[1., 1., 1.,  ..., 1., 1., 1.],\n",
       "         [0., 0., 0.,  ..., 0., 0., 0.],\n",
       "         [0., 0., 0.,  ..., 0., 0., 0.],\n",
       "         [0., 0., 0.,  ..., 0., 0., 0.]],\n",
       "\n",
       "        ...,\n",
       "\n",
       "        [[0., 0., 0.,  ..., 0., 0., 0.],\n",
       "         [1., 1., 1.,  ..., 1., 1., 1.],\n",
       "         [0., 0., 0.,  ..., 0., 0., 0.],\n",
       "         [0., 0., 0.,  ..., 0., 0., 0.]],\n",
       "\n",
       "        [[0., 0., 0.,  ..., 1., 1., 1.],\n",
       "         [1., 1., 1.,  ..., 0., 0., 0.],\n",
       "         [0., 0., 0.,  ..., 0., 0., 0.],\n",
       "         [0., 0., 0.,  ..., 0., 0., 0.]],\n",
       "\n",
       "        [[1., 1., 1.,  ..., 1., 1., 1.],\n",
       "         [0., 0., 0.,  ..., 0., 0., 0.],\n",
       "         [0., 0., 0.,  ..., 0., 0., 0.],\n",
       "         [0., 0., 0.,  ..., 0., 0., 0.]]])"
      ]
     },
     "execution_count": 154,
     "metadata": {},
     "output_type": "execute_result"
    }
   ],
   "source": [
    "daily_onehot.scatter_(1,daily[:,9,:].long().unsqueeze(1)-1,1.0)\n"
   ]
  },
  {
   "cell_type": "code",
   "execution_count": 158,
   "id": "7bdc04bf",
   "metadata": {},
   "outputs": [],
   "source": [
    "daily = torch.cat((daily,daily_onehot),dim =1)"
   ]
  },
  {
   "cell_type": "code",
   "execution_count": 160,
   "id": "a5de766d",
   "metadata": {},
   "outputs": [],
   "source": [
    "daily[:,9,:] = (daily[:,9,]-1.0) / 3.0"
   ]
  },
  {
   "cell_type": "code",
   "execution_count": 162,
   "id": "a79ea056",
   "metadata": {},
   "outputs": [],
   "source": [
    "temp = daily[:,10,:]\n",
    "temp_min = torch.min(temp)\n",
    "temp_max = torch.max(temp)\n",
    "daily[:,10,:] = (daily[:,10,:] - temp_min) / (temp_max - temp_min)"
   ]
  },
  {
   "cell_type": "code",
   "execution_count": 165,
   "id": "290561f7",
   "metadata": {},
   "outputs": [
    {
     "name": "stdout",
     "output_type": "stream",
     "text": [
      "tensor([[ 8,  8],\n",
      "        [ 8, 12]])\n",
      "tensor([[ 4,  6],\n",
      "        [12, 14]])\n"
     ]
    }
   ],
   "source": [
    "b = torch.tensor([[[3, 2], [1, 4]], [[5, 6], [7, 8]]])\n",
    "q = torch.sum(b, dim =0)\n",
    "print(q)\n",
    "s = torch.sum(b, dim =1)\n",
    "print(s)"
   ]
  },
  {
   "cell_type": "code",
   "execution_count": 173,
   "id": "cdb9be4b",
   "metadata": {
    "scrolled": true
   },
   "outputs": [],
   "source": [
    "with open('../data/p1ch4/jane-austen/1342-0.txt', encoding='utf8') as f:\n",
    "    text = f.read()"
   ]
  },
  {
   "cell_type": "code",
   "execution_count": 175,
   "id": "f6127652",
   "metadata": {},
   "outputs": [
    {
     "data": {
      "text/plain": [
       "'“Impossible, Mr. Bennet, impossible, when I am not acquainted with him'"
      ]
     },
     "execution_count": 175,
     "metadata": {},
     "output_type": "execute_result"
    }
   ],
   "source": [
    "lines = text.split('\\n')\n",
    "line = lines[200]\n",
    "line"
   ]
  },
  {
   "cell_type": "code",
   "execution_count": 183,
   "id": "3a82f20a",
   "metadata": {},
   "outputs": [
    {
     "data": {
      "text/plain": [
       "torch.Size([70, 128])"
      ]
     },
     "execution_count": 183,
     "metadata": {},
     "output_type": "execute_result"
    }
   ],
   "source": [
    "letter_t = torch.zeros(len(line),128)\n",
    "letter_t.shape"
   ]
  },
  {
   "cell_type": "code",
   "execution_count": 179,
   "id": "eb29aab4",
   "metadata": {},
   "outputs": [],
   "source": [
    "for i, letter in enumerate(line.lower().strip()):\n",
    "    letter_index = ord(letter) if ord(letter)<128 else 0\n",
    "    letter_t[i][letter_index] = 1\n"
   ]
  },
  {
   "cell_type": "code",
   "execution_count": 192,
   "id": "dcff7a2c",
   "metadata": {},
   "outputs": [
    {
     "data": {
      "text/plain": [
       "('“Impossible, Mr. Bennet, impossible, when I am not acquainted with him',\n",
       " ['impossible',\n",
       "  'mr',\n",
       "  'bennet',\n",
       "  'impossible',\n",
       "  'when',\n",
       "  'i',\n",
       "  'am',\n",
       "  'not',\n",
       "  'acquainted',\n",
       "  'with',\n",
       "  'him'])"
      ]
     },
     "execution_count": 192,
     "metadata": {},
     "output_type": "execute_result"
    }
   ],
   "source": [
    "def clean_word(input):\n",
    "    punctuation = '.,;:\"!?“”_-'\n",
    "    word_list = input.lower().split()\n",
    "    word_list = [word.strip(punctuation) for word in word_list]\n",
    "    return word_list\n",
    "words_line = clean_word(line)\n",
    "line , words_line"
   ]
  },
  {
   "cell_type": "code",
   "execution_count": 194,
   "id": "428853fb",
   "metadata": {},
   "outputs": [
    {
     "data": {
      "text/plain": [
       "(7261, 3394)"
      ]
     },
     "execution_count": 194,
     "metadata": {},
     "output_type": "execute_result"
    }
   ],
   "source": [
    "word_list = sorted(set(clean_word(text)))\n",
    "word_dict = {word: i for (i,word) in enumerate(word_list)}\n",
    "len(word_dict), word_dict['impossible']"
   ]
  },
  {
   "cell_type": "code",
   "execution_count": 195,
   "id": "0c2a8c34",
   "metadata": {},
   "outputs": [
    {
     "name": "stdout",
     "output_type": "stream",
     "text": [
      "0 3394 impossible\n",
      "1 4305 mr\n",
      "2 813 bennet\n",
      "3 3394 impossible\n",
      "4 7078 when\n",
      "5 3315 i\n",
      "6 415 am\n",
      "7 4436 not\n",
      "8 239 acquainted\n",
      "9 7148 with\n",
      "10 3215 him\n"
     ]
    }
   ],
   "source": [
    "word_t = torch.zeros(len(words_line),len(word_dict))\n",
    "for i, word in enumerate(words_line):\n",
    "    word_index = word_dict[word]\n",
    "    word_t[i][word_index] = 1\n",
    "    print('{} {} {}'.format(i, word_index, word))"
   ]
  },
  {
   "cell_type": "code",
   "execution_count": null,
   "id": "5873ec3f",
   "metadata": {},
   "outputs": [],
   "source": []
  }
 ],
 "metadata": {
  "kernelspec": {
   "display_name": "Python 3 (ipykernel)",
   "language": "python",
   "name": "python3"
  },
  "language_info": {
   "codemirror_mode": {
    "name": "ipython",
    "version": 3
   },
   "file_extension": ".py",
   "mimetype": "text/x-python",
   "name": "python",
   "nbconvert_exporter": "python",
   "pygments_lexer": "ipython3",
   "version": "3.7.0"
  }
 },
 "nbformat": 4,
 "nbformat_minor": 5
}
